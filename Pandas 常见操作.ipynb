{
 "cells": [
  {
   "cell_type": "markdown",
   "id": "be66b639-859b-42bc-8b2d-8d0956f92ed2",
   "metadata": {
    "execution": {
     "iopub.execute_input": "2023-08-30T04:27:15.858151Z",
     "iopub.status.busy": "2023-08-30T04:27:15.858151Z",
     "iopub.status.idle": "2023-08-30T04:27:15.867986Z",
     "shell.execute_reply": "2023-08-30T04:27:15.866446Z",
     "shell.execute_reply.started": "2023-08-30T04:27:15.858151Z"
    }
   },
   "source": [
    "# 练习题索引\n",
    "点击习题编号即可跳转至习题内容。\n",
    "\n",
    "|习题编号|内容|相应数据集|\n",
    "|:---- |:-----|:------|\n",
    "|[练习1 - 开始了解你的数据](#练习1-开始了解你的数据) |探索Chipotle快餐数据|chipotle.tsv|\n",
    "|[练习2 - 数据过滤与排序](#练习2-数据过滤与排序) | 探索2012欧洲杯数据|Euro2012_stats.csv|\n",
    "|[练习4 - 数据处理](#练习3-数据处理) | 探索2012欧洲杯数据|Euro2012_stats.csv|"
   ]
  },
  {
   "cell_type": "markdown",
   "id": "f06b2f02-bfba-4b31-aab6-eab31deafd41",
   "metadata": {
    "id": "15AE1A1334184C649F148EF974EA9ACA",
    "jupyter": {},
    "mdEditEnable": false,
    "slideshow": {
     "slide_type": "slide"
    },
    "tags": []
   },
   "source": [
    "# 练习1-开始了解你的数据\n",
    "## 探索Chipotle快餐数据\n",
    "![image description](https://cdn.kesci.com/images/lab_upload/1508342529498_40648.jpeg)"
   ]
  },
  {
   "cell_type": "markdown",
   "id": "32028b31-7e1b-4791-acc2-3ae2f71ef7f6",
   "metadata": {
    "id": "65818C7767B54230816B241B20786D13",
    "jupyter": {},
    "mdEditEnable": false,
    "slideshow": {
     "slide_type": "slide"
    },
    "tags": []
   },
   "source": [
    "# 练习2-数据过滤与排序\n",
    "## 探索2012欧洲杯数据\n",
    "![image description](https://cdn.kesci.com/images/lab_upload/1508342554087_23763.jpeg)"
   ]
  },
  {
   "cell_type": "markdown",
   "id": "7cb842e2-8c10-4991-bbc6-c06570ce1dab",
   "metadata": {
    "id": "65818C7767B54230816B241B20786D13",
    "jupyter": {},
    "mdEditEnable": false,
    "slideshow": {
     "slide_type": "slide"
    },
    "tags": []
   },
   "source": [
    "# 练习3-数据处理"
   ]
  }
 ],
 "metadata": {
  "kernelspec": {
   "display_name": "Python 3 (ipykernel)",
   "language": "python",
   "name": "python3"
  },
  "language_info": {
   "codemirror_mode": {
    "name": "ipython",
    "version": 3
   },
   "file_extension": ".py",
   "mimetype": "text/x-python",
   "name": "python",
   "nbconvert_exporter": "python",
   "pygments_lexer": "ipython3",
   "version": "3.11.4"
  }
 },
 "nbformat": 4,
 "nbformat_minor": 5
}
